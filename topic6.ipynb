{
 "cells": [
  {
   "cell_type": "markdown",
   "id": "7424940a",
   "metadata": {},
   "source": [
    "What \"Inspecting Data\" Means:\n",
    "Inspecting data means checking and understanding the contents and structure of your dataset (DataFrame or Series) before you start analyzing or cleaning it.\n",
    "\n",
    "It helps you answer questions like:\n",
    "\n",
    "What does the data look like?\n",
    "\n",
    "How many rows and columns are there?\n",
    "\n",
    "What are the column names?\n",
    "\n",
    "What type of data is in each column?\n",
    "\n",
    "Are there any missing values?\n",
    "\n",
    "What are the minimum, maximum, and average values?"
   ]
  },
  {
   "cell_type": "markdown",
   "id": "322c97ca",
   "metadata": {},
   "source": [
    "# Complete Data Inspection in Pandas\n",
    "\n",
    "# Function                           | Description\n",
    "# ----------------------------------- | ----------------------------------------------\n",
    "# df.head()                           | Shows the first 5 rows of the DataFrame\n",
    "# df.tail()                           | Shows the last 5 rows\n",
    "# df.shape                            | Returns the number of rows and columns in a tuple (rows, columns)\n",
    "# df.columns                          | Lists all column names\n",
    "# df.index                            | Lists all row indexes (labels)\n",
    "# df.dtypes                           | Shows the data types of each column\n",
    "# df.info()                           | Provides a summary of the DataFrame, including index, columns, non-null counts, and data types\n",
    "# df.describe()                       | Gives statistical summary of numeric columns (mean, std, min, max, etc.)\n",
    "# df.isnull()                         | Detects missing values in each cell (returns `True` for nulls)\n",
    "# df.isnull().sum()                   | Counts the number of missing (null) values per column\n",
    "# df.duplicated()                     | Flags duplicate rows in the DataFrame\n",
    "# df.duplicated().sum()               | Counts the number of duplicate rows\n",
    "# df.nunique()                        | Counts the number of unique values in each column\n",
    "# df.value_counts()                   | Returns the frequency of unique values in a Series (column)\n",
    "# df.sample(n)                        | Randomly selects `n` rows from the DataFrame\n",
    "# df.sort_values(by='col')            | Sorts the DataFrame by a specific column\n",
    "# df.corr()                           | Computes correlation between numeric columns\n",
    "# df.cov()                            | Computes covariance between numeric columns\n",
    "# df.memory_usage()                   | Returns memory usage of each column\n",
    "# df.groupby('col')                   | Groups data by a column (use with aggregation functions like `.sum()`, `.mean()`)\n",
    "# df.describe(include='all')          | Includes both numeric and non-numeric columns in the summary statistics\n",
    "# df.mode()                           | Returns the most frequent value(s) per column\n",
    "# df.quantile([0.25, 0.5, 0.75])      | Returns the 25th, 50th (median), and 75th percentiles of the data\n",
    "# df.skew()                           | Measures the skewness (asymmetry) of data distribution\n",
    "# df.kurt()                           | Measures the kurtosis (peakedness) of data distribution\n",
    "# df.select_dtypes(include='number')  | Selects only numeric columns from the DataFrame\n",
    "# df.cumsum()                         | Calculates the cumulative sum of values across columns (useful in time-series data)\n"
   ]
  },
  {
   "cell_type": "code",
   "execution_count": null,
   "id": "7fc164f6",
   "metadata": {},
   "outputs": [],
   "source": []
  }
 ],
 "metadata": {
  "language_info": {
   "name": "python"
  }
 },
 "nbformat": 4,
 "nbformat_minor": 5
}
