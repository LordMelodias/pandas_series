{
 "cells": [
  {
   "cell_type": "markdown",
   "id": "f2107b1f",
   "metadata": {},
   "source": [
    "# Step-by-Step\n",
    "1. Define the Project Objective\n",
    "Task: Decide what you want to analyze or predict from the dataset. Example objectives:\n",
    "- Sales trends over time.\n",
    "- Product performance by category.\n",
    "- Customer behavior analysis.\n",
    "- Profit analysis based on discounts or shipping costs.\n",
    "Action: Write down your objective clearly so that all your analysis aligns with it.\n",
    "\n",
    "2. Load the Dataset\n",
    "3. Data Cleaning and Preprocessing (Example: Handle missing values, Convert date columns to datetime format, Convert categorical columns to category type (for efficiency))\n",
    "4. Exploratory Data Analysis (EDA) (nalyze the dataset to understand its structure, trends, and relationships.)\n",
    "5. Build a Data Pipeline (Optional for Data Engineering Focus)\n",
    "6. Data Storage (Store cleaned data in a database or as a clean file for future use. You could use a SQL database, NoSQL (MongoDB), or even a CSV file.)\n",
    "7. Reporting and Visualization (Create reports or dashboards to communicate your findings)\n",
    "8. Optional: Predictive Modeling (Use machine learning to predict future sales)\n",
    "9. Deployment (Deploy your models or data pipeline)\n",
    "10. Documentation and Final Report\n",
    "11. Continuous Improvement"
   ]
  },
  {
   "cell_type": "code",
   "execution_count": 47,
   "id": "66b6d59e",
   "metadata": {},
   "outputs": [],
   "source": [
    "import pandas as pd"
   ]
  },
  {
   "cell_type": "code",
   "execution_count": 48,
   "id": "d03a5fd3",
   "metadata": {},
   "outputs": [],
   "source": [
    "df = pd.read_csv(\"dataset1.csv\")"
   ]
  },
  {
   "cell_type": "code",
   "execution_count": 49,
   "id": "d815221a",
   "metadata": {},
   "outputs": [
    {
     "data": {
      "text/html": [
       "<div>\n",
       "<style scoped>\n",
       "    .dataframe tbody tr th:only-of-type {\n",
       "        vertical-align: middle;\n",
       "    }\n",
       "\n",
       "    .dataframe tbody tr th {\n",
       "        vertical-align: top;\n",
       "    }\n",
       "\n",
       "    .dataframe thead th {\n",
       "        text-align: right;\n",
       "    }\n",
       "</style>\n",
       "<table border=\"1\" class=\"dataframe\">\n",
       "  <thead>\n",
       "    <tr style=\"text-align: right;\">\n",
       "      <th></th>\n",
       "      <th>Order_Date</th>\n",
       "      <th>Time</th>\n",
       "      <th>Aging</th>\n",
       "      <th>Customer_Id</th>\n",
       "      <th>Gender</th>\n",
       "      <th>Device_Type</th>\n",
       "      <th>Customer_Login_type</th>\n",
       "      <th>Product_Category</th>\n",
       "      <th>Product</th>\n",
       "      <th>Sales</th>\n",
       "      <th>Quantity</th>\n",
       "      <th>Discount</th>\n",
       "      <th>Profit</th>\n",
       "      <th>Shipping_Cost</th>\n",
       "      <th>Order_Priority</th>\n",
       "      <th>Payment_method</th>\n",
       "    </tr>\n",
       "  </thead>\n",
       "  <tbody>\n",
       "    <tr>\n",
       "      <th>0</th>\n",
       "      <td>2018-01-02</td>\n",
       "      <td>10:56:33</td>\n",
       "      <td>8.0</td>\n",
       "      <td>37077</td>\n",
       "      <td>Female</td>\n",
       "      <td>Web</td>\n",
       "      <td>Member</td>\n",
       "      <td>Auto &amp; Accessories</td>\n",
       "      <td>Car Media Players</td>\n",
       "      <td>140.0</td>\n",
       "      <td>1.0</td>\n",
       "      <td>0.3</td>\n",
       "      <td>46.0</td>\n",
       "      <td>4.6</td>\n",
       "      <td>Medium</td>\n",
       "      <td>credit_card</td>\n",
       "    </tr>\n",
       "    <tr>\n",
       "      <th>1</th>\n",
       "      <td>2018-07-24</td>\n",
       "      <td>20:41:37</td>\n",
       "      <td>2.0</td>\n",
       "      <td>59173</td>\n",
       "      <td>Female</td>\n",
       "      <td>Web</td>\n",
       "      <td>Member</td>\n",
       "      <td>Auto &amp; Accessories</td>\n",
       "      <td>Car Speakers</td>\n",
       "      <td>211.0</td>\n",
       "      <td>1.0</td>\n",
       "      <td>0.3</td>\n",
       "      <td>112.0</td>\n",
       "      <td>11.2</td>\n",
       "      <td>Medium</td>\n",
       "      <td>credit_card</td>\n",
       "    </tr>\n",
       "    <tr>\n",
       "      <th>2</th>\n",
       "      <td>2018-11-08</td>\n",
       "      <td>08:38:49</td>\n",
       "      <td>8.0</td>\n",
       "      <td>41066</td>\n",
       "      <td>Female</td>\n",
       "      <td>Web</td>\n",
       "      <td>Member</td>\n",
       "      <td>Auto &amp; Accessories</td>\n",
       "      <td>Car Body Covers</td>\n",
       "      <td>117.0</td>\n",
       "      <td>5.0</td>\n",
       "      <td>0.1</td>\n",
       "      <td>31.2</td>\n",
       "      <td>3.1</td>\n",
       "      <td>Critical</td>\n",
       "      <td>credit_card</td>\n",
       "    </tr>\n",
       "    <tr>\n",
       "      <th>3</th>\n",
       "      <td>2018-04-18</td>\n",
       "      <td>19:28:06</td>\n",
       "      <td>7.0</td>\n",
       "      <td>50741</td>\n",
       "      <td>Female</td>\n",
       "      <td>Web</td>\n",
       "      <td>Member</td>\n",
       "      <td>Auto &amp; Accessories</td>\n",
       "      <td>Car &amp; Bike Care</td>\n",
       "      <td>118.0</td>\n",
       "      <td>1.0</td>\n",
       "      <td>0.3</td>\n",
       "      <td>26.2</td>\n",
       "      <td>2.6</td>\n",
       "      <td>High</td>\n",
       "      <td>credit_card</td>\n",
       "    </tr>\n",
       "    <tr>\n",
       "      <th>4</th>\n",
       "      <td>2018-08-13</td>\n",
       "      <td>21:18:39</td>\n",
       "      <td>9.0</td>\n",
       "      <td>53639</td>\n",
       "      <td>Female</td>\n",
       "      <td>Web</td>\n",
       "      <td>Member</td>\n",
       "      <td>Auto &amp; Accessories</td>\n",
       "      <td>Tyre</td>\n",
       "      <td>250.0</td>\n",
       "      <td>1.0</td>\n",
       "      <td>0.3</td>\n",
       "      <td>160.0</td>\n",
       "      <td>16.0</td>\n",
       "      <td>Critical</td>\n",
       "      <td>credit_card</td>\n",
       "    </tr>\n",
       "    <tr>\n",
       "      <th>5</th>\n",
       "      <td>2018-07-09</td>\n",
       "      <td>21:57:05</td>\n",
       "      <td>8.0</td>\n",
       "      <td>39783</td>\n",
       "      <td>Female</td>\n",
       "      <td>Web</td>\n",
       "      <td>Member</td>\n",
       "      <td>Auto &amp; Accessories</td>\n",
       "      <td>Bike Tyres</td>\n",
       "      <td>72.0</td>\n",
       "      <td>1.0</td>\n",
       "      <td>0.3</td>\n",
       "      <td>24.0</td>\n",
       "      <td>2.4</td>\n",
       "      <td>Critical</td>\n",
       "      <td>credit_card</td>\n",
       "    </tr>\n",
       "    <tr>\n",
       "      <th>6</th>\n",
       "      <td>2018-05-16</td>\n",
       "      <td>13:10:30</td>\n",
       "      <td>1.0</td>\n",
       "      <td>26767</td>\n",
       "      <td>Female</td>\n",
       "      <td>Web</td>\n",
       "      <td>Member</td>\n",
       "      <td>Auto &amp; Accessories</td>\n",
       "      <td>Car Mat</td>\n",
       "      <td>54.0</td>\n",
       "      <td>1.0</td>\n",
       "      <td>0.3</td>\n",
       "      <td>54.0</td>\n",
       "      <td>5.4</td>\n",
       "      <td>High</td>\n",
       "      <td>credit_card</td>\n",
       "    </tr>\n",
       "    <tr>\n",
       "      <th>7</th>\n",
       "      <td>2018-06-23</td>\n",
       "      <td>18:29:09</td>\n",
       "      <td>7.0</td>\n",
       "      <td>20719</td>\n",
       "      <td>Female</td>\n",
       "      <td>Web</td>\n",
       "      <td>Member</td>\n",
       "      <td>Auto &amp; Accessories</td>\n",
       "      <td>Car Seat Covers</td>\n",
       "      <td>114.0</td>\n",
       "      <td>5.0</td>\n",
       "      <td>0.2</td>\n",
       "      <td>22.6</td>\n",
       "      <td>2.3</td>\n",
       "      <td>Critical</td>\n",
       "      <td>credit_card</td>\n",
       "    </tr>\n",
       "    <tr>\n",
       "      <th>8</th>\n",
       "      <td>2018-07-29</td>\n",
       "      <td>11:55:02</td>\n",
       "      <td>7.0</td>\n",
       "      <td>46947</td>\n",
       "      <td>Female</td>\n",
       "      <td>Web</td>\n",
       "      <td>Member</td>\n",
       "      <td>Auto &amp; Accessories</td>\n",
       "      <td>Car Pillow &amp; Neck Rest</td>\n",
       "      <td>231.0</td>\n",
       "      <td>5.0</td>\n",
       "      <td>0.3</td>\n",
       "      <td>116.4</td>\n",
       "      <td>11.6</td>\n",
       "      <td>Critical</td>\n",
       "      <td>credit_card</td>\n",
       "    </tr>\n",
       "    <tr>\n",
       "      <th>9</th>\n",
       "      <td>2018-05-16</td>\n",
       "      <td>19:41:10</td>\n",
       "      <td>10.0</td>\n",
       "      <td>31839</td>\n",
       "      <td>Female</td>\n",
       "      <td>Web</td>\n",
       "      <td>Member</td>\n",
       "      <td>Auto &amp; Accessories</td>\n",
       "      <td>Car Media Players</td>\n",
       "      <td>140.0</td>\n",
       "      <td>1.0</td>\n",
       "      <td>0.2</td>\n",
       "      <td>54.4</td>\n",
       "      <td>5.4</td>\n",
       "      <td>Critical</td>\n",
       "      <td>money_order</td>\n",
       "    </tr>\n",
       "  </tbody>\n",
       "</table>\n",
       "</div>"
      ],
      "text/plain": [
       "   Order_Date      Time  Aging  Customer_Id  Gender Device_Type  \\\n",
       "0  2018-01-02  10:56:33    8.0        37077  Female         Web   \n",
       "1  2018-07-24  20:41:37    2.0        59173  Female         Web   \n",
       "2  2018-11-08  08:38:49    8.0        41066  Female         Web   \n",
       "3  2018-04-18  19:28:06    7.0        50741  Female         Web   \n",
       "4  2018-08-13  21:18:39    9.0        53639  Female         Web   \n",
       "5  2018-07-09  21:57:05    8.0        39783  Female         Web   \n",
       "6  2018-05-16  13:10:30    1.0        26767  Female         Web   \n",
       "7  2018-06-23  18:29:09    7.0        20719  Female         Web   \n",
       "8  2018-07-29  11:55:02    7.0        46947  Female         Web   \n",
       "9  2018-05-16  19:41:10   10.0        31839  Female         Web   \n",
       "\n",
       "  Customer_Login_type    Product_Category                 Product  Sales  \\\n",
       "0              Member  Auto & Accessories       Car Media Players  140.0   \n",
       "1              Member  Auto & Accessories            Car Speakers  211.0   \n",
       "2              Member  Auto & Accessories         Car Body Covers  117.0   \n",
       "3              Member  Auto & Accessories         Car & Bike Care  118.0   \n",
       "4              Member  Auto & Accessories                    Tyre  250.0   \n",
       "5              Member  Auto & Accessories              Bike Tyres   72.0   \n",
       "6              Member  Auto & Accessories                 Car Mat   54.0   \n",
       "7              Member  Auto & Accessories         Car Seat Covers  114.0   \n",
       "8              Member  Auto & Accessories  Car Pillow & Neck Rest  231.0   \n",
       "9              Member  Auto & Accessories       Car Media Players  140.0   \n",
       "\n",
       "   Quantity  Discount  Profit  Shipping_Cost Order_Priority Payment_method  \n",
       "0       1.0       0.3    46.0            4.6         Medium    credit_card  \n",
       "1       1.0       0.3   112.0           11.2         Medium    credit_card  \n",
       "2       5.0       0.1    31.2            3.1       Critical    credit_card  \n",
       "3       1.0       0.3    26.2            2.6           High    credit_card  \n",
       "4       1.0       0.3   160.0           16.0       Critical    credit_card  \n",
       "5       1.0       0.3    24.0            2.4       Critical    credit_card  \n",
       "6       1.0       0.3    54.0            5.4           High    credit_card  \n",
       "7       5.0       0.2    22.6            2.3       Critical    credit_card  \n",
       "8       5.0       0.3   116.4           11.6       Critical    credit_card  \n",
       "9       1.0       0.2    54.4            5.4       Critical    money_order  "
      ]
     },
     "execution_count": 49,
     "metadata": {},
     "output_type": "execute_result"
    }
   ],
   "source": [
    "df.head(10)"
   ]
  },
  {
   "cell_type": "markdown",
   "id": "f824e922",
   "metadata": {},
   "source": [
    "# Define the Objective\n",
    "\n",
    "What: Decide what you want to learn from the data.\n",
    "Why: To focus your work and make it meaningful.\n",
    "\n",
    "Objective: Understand how sales and profit change over time and by product type in the dataset.\n",
    "\n",
    "We’ll check:\n",
    "How much money (sales) is made each month.\n",
    "Which products make the most profit.\n",
    "If discounts affect profit."
   ]
  },
  {
   "cell_type": "code",
   "execution_count": 50,
   "id": "aa355c17",
   "metadata": {},
   "outputs": [
    {
     "name": "stdout",
     "output_type": "stream",
     "text": [
      "<class 'pandas.core.frame.DataFrame'>\n",
      "RangeIndex: 51290 entries, 0 to 51289\n",
      "Data columns (total 16 columns):\n",
      " #   Column               Non-Null Count  Dtype  \n",
      "---  ------               --------------  -----  \n",
      " 0   Order_Date           51290 non-null  object \n",
      " 1   Time                 51290 non-null  object \n",
      " 2   Aging                51289 non-null  float64\n",
      " 3   Customer_Id          51290 non-null  int64  \n",
      " 4   Gender               51290 non-null  object \n",
      " 5   Device_Type          51290 non-null  object \n",
      " 6   Customer_Login_type  51290 non-null  object \n",
      " 7   Product_Category     51290 non-null  object \n",
      " 8   Product              51290 non-null  object \n",
      " 9   Sales                51289 non-null  float64\n",
      " 10  Quantity             51288 non-null  float64\n",
      " 11  Discount             51289 non-null  float64\n",
      " 12  Profit               51290 non-null  float64\n",
      " 13  Shipping_Cost        51289 non-null  float64\n",
      " 14  Order_Priority       51288 non-null  object \n",
      " 15  Payment_method       51290 non-null  object \n",
      "dtypes: float64(6), int64(1), object(9)\n",
      "memory usage: 6.3+ MB\n"
     ]
    }
   ],
   "source": [
    "df.info() # Shows column names and data types\n",
    "# We have 16 Columns and 51290 Rows"
   ]
  },
  {
   "cell_type": "markdown",
   "id": "ac2cd678",
   "metadata": {},
   "source": [
    "# Clean the Data"
   ]
  },
  {
   "cell_type": "code",
   "execution_count": 51,
   "id": "c42d9fa2",
   "metadata": {},
   "outputs": [
    {
     "data": {
      "text/plain": [
       "Order_Date             0\n",
       "Time                   0\n",
       "Aging                  1\n",
       "Customer_Id            0\n",
       "Gender                 0\n",
       "Device_Type            0\n",
       "Customer_Login_type    0\n",
       "Product_Category       0\n",
       "Product                0\n",
       "Sales                  1\n",
       "Quantity               2\n",
       "Discount               1\n",
       "Profit                 0\n",
       "Shipping_Cost          1\n",
       "Order_Priority         2\n",
       "Payment_method         0\n",
       "dtype: int64"
      ]
     },
     "execution_count": 51,
     "metadata": {},
     "output_type": "execute_result"
    }
   ],
   "source": [
    "# Shows how many values are missing in each column\n",
    "df.isnull().sum()"
   ]
  },
  {
   "cell_type": "code",
   "execution_count": 52,
   "id": "d13e2123",
   "metadata": {},
   "outputs": [],
   "source": [
    "# Remove null value\n",
    "df = df.dropna()"
   ]
  },
  {
   "cell_type": "code",
   "execution_count": 53,
   "id": "ceabe2f9",
   "metadata": {},
   "outputs": [
    {
     "data": {
      "text/plain": [
       "Order_Date             0\n",
       "Time                   0\n",
       "Aging                  0\n",
       "Customer_Id            0\n",
       "Gender                 0\n",
       "Device_Type            0\n",
       "Customer_Login_type    0\n",
       "Product_Category       0\n",
       "Product                0\n",
       "Sales                  0\n",
       "Quantity               0\n",
       "Discount               0\n",
       "Profit                 0\n",
       "Shipping_Cost          0\n",
       "Order_Priority         0\n",
       "Payment_method         0\n",
       "dtype: int64"
      ]
     },
     "execution_count": 53,
     "metadata": {},
     "output_type": "execute_result"
    }
   ],
   "source": [
    "# Shows how many values are missing in each column\n",
    "df.isnull().sum()"
   ]
  },
  {
   "cell_type": "code",
   "execution_count": 54,
   "id": "77438fcf",
   "metadata": {},
   "outputs": [],
   "source": [
    "# Make Order_Date a date format\n",
    "df['Order_Date'] = pd.to_datetime(df['Order_Date'])"
   ]
  },
  {
   "cell_type": "markdown",
   "id": "ff73bf4d",
   "metadata": {},
   "source": [
    "You're telling pandas:\n",
    "“These columns have repeated text values (like 'Male', 'Female', 'High', 'Low', etc.), so treat them as categories instead of normal text.”\n",
    "\n",
    "Why do this?\n",
    "- Saves memory: Categorical data uses less space than storing full strings.\n",
    "- Faster operations: Comparisons and groupings become faster with category type.\n",
    "- Better for analysis: It tells pandas that these values are from a fixed set of possible values.\n",
    "\n",
    "This kind of memory savings becomes huge when working with big datasets or many repeated string columns like city names, product categories, etc."
   ]
  },
  {
   "cell_type": "code",
   "execution_count": 55,
   "id": "0ba76781",
   "metadata": {},
   "outputs": [],
   "source": [
    "# Make categorical columns efficient (like Gender, Product_Category)\n",
    "df['Gender'] = df['Gender'].astype('category')\n",
    "df['Product_Category'] = df['Product_Category'].astype('category')\n",
    "df['Order_Priority'] = df['Order_Priority'].astype('category')"
   ]
  },
  {
   "cell_type": "code",
   "execution_count": 56,
   "id": "db0a6a69",
   "metadata": {},
   "outputs": [
    {
     "name": "stdout",
     "output_type": "stream",
     "text": [
      "0\n"
     ]
    }
   ],
   "source": [
    "print(df.duplicated().sum())  # Shows how many duplicate rows exist\n",
    "# df = df.drop_duplicates()  # Removes duplicates"
   ]
  },
  {
   "cell_type": "code",
   "execution_count": 57,
   "id": "92cc0fb1",
   "metadata": {},
   "outputs": [],
   "source": [
    "# Create Year and Month columns for easier analysis\n",
    "df['Year'] = df['Order_Date'].dt.year\n",
    "df['Month'] = df['Order_Date'].dt.month"
   ]
  },
  {
   "cell_type": "code",
   "execution_count": 58,
   "id": "061af30f",
   "metadata": {},
   "outputs": [
    {
     "data": {
      "text/html": [
       "<div>\n",
       "<style scoped>\n",
       "    .dataframe tbody tr th:only-of-type {\n",
       "        vertical-align: middle;\n",
       "    }\n",
       "\n",
       "    .dataframe tbody tr th {\n",
       "        vertical-align: top;\n",
       "    }\n",
       "\n",
       "    .dataframe thead th {\n",
       "        text-align: right;\n",
       "    }\n",
       "</style>\n",
       "<table border=\"1\" class=\"dataframe\">\n",
       "  <thead>\n",
       "    <tr style=\"text-align: right;\">\n",
       "      <th></th>\n",
       "      <th>Order_Date</th>\n",
       "      <th>Time</th>\n",
       "      <th>Aging</th>\n",
       "      <th>Customer_Id</th>\n",
       "      <th>Gender</th>\n",
       "      <th>Device_Type</th>\n",
       "      <th>Customer_Login_type</th>\n",
       "      <th>Product_Category</th>\n",
       "      <th>Product</th>\n",
       "      <th>Sales</th>\n",
       "      <th>Quantity</th>\n",
       "      <th>Discount</th>\n",
       "      <th>Profit</th>\n",
       "      <th>Shipping_Cost</th>\n",
       "      <th>Order_Priority</th>\n",
       "      <th>Payment_method</th>\n",
       "      <th>Year</th>\n",
       "      <th>Month</th>\n",
       "    </tr>\n",
       "  </thead>\n",
       "  <tbody>\n",
       "    <tr>\n",
       "      <th>0</th>\n",
       "      <td>2018-01-02</td>\n",
       "      <td>10:56:33</td>\n",
       "      <td>8.0</td>\n",
       "      <td>37077</td>\n",
       "      <td>Female</td>\n",
       "      <td>Web</td>\n",
       "      <td>Member</td>\n",
       "      <td>Auto &amp; Accessories</td>\n",
       "      <td>Car Media Players</td>\n",
       "      <td>140.0</td>\n",
       "      <td>1.0</td>\n",
       "      <td>0.3</td>\n",
       "      <td>46.0</td>\n",
       "      <td>4.6</td>\n",
       "      <td>Medium</td>\n",
       "      <td>credit_card</td>\n",
       "      <td>2018</td>\n",
       "      <td>1</td>\n",
       "    </tr>\n",
       "    <tr>\n",
       "      <th>1</th>\n",
       "      <td>2018-07-24</td>\n",
       "      <td>20:41:37</td>\n",
       "      <td>2.0</td>\n",
       "      <td>59173</td>\n",
       "      <td>Female</td>\n",
       "      <td>Web</td>\n",
       "      <td>Member</td>\n",
       "      <td>Auto &amp; Accessories</td>\n",
       "      <td>Car Speakers</td>\n",
       "      <td>211.0</td>\n",
       "      <td>1.0</td>\n",
       "      <td>0.3</td>\n",
       "      <td>112.0</td>\n",
       "      <td>11.2</td>\n",
       "      <td>Medium</td>\n",
       "      <td>credit_card</td>\n",
       "      <td>2018</td>\n",
       "      <td>7</td>\n",
       "    </tr>\n",
       "    <tr>\n",
       "      <th>2</th>\n",
       "      <td>2018-11-08</td>\n",
       "      <td>08:38:49</td>\n",
       "      <td>8.0</td>\n",
       "      <td>41066</td>\n",
       "      <td>Female</td>\n",
       "      <td>Web</td>\n",
       "      <td>Member</td>\n",
       "      <td>Auto &amp; Accessories</td>\n",
       "      <td>Car Body Covers</td>\n",
       "      <td>117.0</td>\n",
       "      <td>5.0</td>\n",
       "      <td>0.1</td>\n",
       "      <td>31.2</td>\n",
       "      <td>3.1</td>\n",
       "      <td>Critical</td>\n",
       "      <td>credit_card</td>\n",
       "      <td>2018</td>\n",
       "      <td>11</td>\n",
       "    </tr>\n",
       "    <tr>\n",
       "      <th>3</th>\n",
       "      <td>2018-04-18</td>\n",
       "      <td>19:28:06</td>\n",
       "      <td>7.0</td>\n",
       "      <td>50741</td>\n",
       "      <td>Female</td>\n",
       "      <td>Web</td>\n",
       "      <td>Member</td>\n",
       "      <td>Auto &amp; Accessories</td>\n",
       "      <td>Car &amp; Bike Care</td>\n",
       "      <td>118.0</td>\n",
       "      <td>1.0</td>\n",
       "      <td>0.3</td>\n",
       "      <td>26.2</td>\n",
       "      <td>2.6</td>\n",
       "      <td>High</td>\n",
       "      <td>credit_card</td>\n",
       "      <td>2018</td>\n",
       "      <td>4</td>\n",
       "    </tr>\n",
       "    <tr>\n",
       "      <th>4</th>\n",
       "      <td>2018-08-13</td>\n",
       "      <td>21:18:39</td>\n",
       "      <td>9.0</td>\n",
       "      <td>53639</td>\n",
       "      <td>Female</td>\n",
       "      <td>Web</td>\n",
       "      <td>Member</td>\n",
       "      <td>Auto &amp; Accessories</td>\n",
       "      <td>Tyre</td>\n",
       "      <td>250.0</td>\n",
       "      <td>1.0</td>\n",
       "      <td>0.3</td>\n",
       "      <td>160.0</td>\n",
       "      <td>16.0</td>\n",
       "      <td>Critical</td>\n",
       "      <td>credit_card</td>\n",
       "      <td>2018</td>\n",
       "      <td>8</td>\n",
       "    </tr>\n",
       "  </tbody>\n",
       "</table>\n",
       "</div>"
      ],
      "text/plain": [
       "  Order_Date      Time  Aging  Customer_Id  Gender Device_Type  \\\n",
       "0 2018-01-02  10:56:33    8.0        37077  Female         Web   \n",
       "1 2018-07-24  20:41:37    2.0        59173  Female         Web   \n",
       "2 2018-11-08  08:38:49    8.0        41066  Female         Web   \n",
       "3 2018-04-18  19:28:06    7.0        50741  Female         Web   \n",
       "4 2018-08-13  21:18:39    9.0        53639  Female         Web   \n",
       "\n",
       "  Customer_Login_type    Product_Category            Product  Sales  Quantity  \\\n",
       "0              Member  Auto & Accessories  Car Media Players  140.0       1.0   \n",
       "1              Member  Auto & Accessories       Car Speakers  211.0       1.0   \n",
       "2              Member  Auto & Accessories    Car Body Covers  117.0       5.0   \n",
       "3              Member  Auto & Accessories    Car & Bike Care  118.0       1.0   \n",
       "4              Member  Auto & Accessories               Tyre  250.0       1.0   \n",
       "\n",
       "   Discount  Profit  Shipping_Cost Order_Priority Payment_method  Year  Month  \n",
       "0       0.3    46.0            4.6         Medium    credit_card  2018      1  \n",
       "1       0.3   112.0           11.2         Medium    credit_card  2018      7  \n",
       "2       0.1    31.2            3.1       Critical    credit_card  2018     11  \n",
       "3       0.3    26.2            2.6           High    credit_card  2018      4  \n",
       "4       0.3   160.0           16.0       Critical    credit_card  2018      8  "
      ]
     },
     "execution_count": 58,
     "metadata": {},
     "output_type": "execute_result"
    }
   ],
   "source": [
    "df.head()"
   ]
  },
  {
   "cell_type": "code",
   "execution_count": 59,
   "id": "cb8a2b1c",
   "metadata": {},
   "outputs": [
    {
     "data": {
      "text/plain": [
       "(51282, 18)"
      ]
     },
     "execution_count": 59,
     "metadata": {},
     "output_type": "execute_result"
    }
   ],
   "source": [
    "# After Cleaning and processing\n",
    "df.shape\n",
    "\n",
    "# Before Cleaning we have: 16 Columns and 51290 Rows\n",
    "# After Cleaning we have: 18 Columns and 51282 Rows"
   ]
  },
  {
   "cell_type": "markdown",
   "id": "6d406a6c",
   "metadata": {},
   "source": [
    "# Explore the Data (EDA)\n",
    "What: Look at the data to find patterns.\n",
    "Why: To understand sales trends and profit drivers."
   ]
  },
  {
   "cell_type": "code",
   "execution_count": 60,
   "id": "8f2a5711",
   "metadata": {},
   "outputs": [
    {
     "name": "stdout",
     "output_type": "stream",
     "text": [
      "              Sales        Profit      Discount  Shipping_Cost\n",
      "count  51282.000000  51282.000000  51282.000000   51282.000000\n",
      "mean     152.337350     70.401796      0.303838       7.041166\n",
      "std       66.492468     48.728131      0.131025       4.871685\n",
      "min       33.000000      0.500000      0.100000       0.100000\n",
      "25%       85.000000     24.900000      0.200000       2.500000\n",
      "50%      133.000000     59.900000      0.300000       6.000000\n",
      "75%      218.000000    118.400000      0.400000      11.800000\n",
      "max      250.000000    167.500000      0.500000      16.800000\n"
     ]
    }
   ],
   "source": [
    "print(df[['Sales', 'Profit', 'Discount', 'Shipping_Cost']].describe())"
   ]
  },
  {
   "cell_type": "code",
   "execution_count": 61,
   "id": "7151dbd8",
   "metadata": {},
   "outputs": [],
   "source": [
    "import matplotlib.pyplot as plt"
   ]
  },
  {
   "cell_type": "code",
   "execution_count": 85,
   "id": "2c3caf90",
   "metadata": {},
   "outputs": [
    {
     "data": {
      "text/plain": [
       "Month\n",
       "11    877881.0\n",
       "5     824362.0\n",
       "7     809974.0\n",
       "12    767147.0\n",
       "10    743137.0\n",
       "9     738303.0\n",
       "8     664245.0\n",
       "6     642501.0\n",
       "4     596990.0\n",
       "3     435502.0\n",
       "1     379627.0\n",
       "2     332495.0\n",
       "Name: Sales, dtype: float64"
      ]
     },
     "execution_count": 85,
     "metadata": {},
     "output_type": "execute_result"
    }
   ],
   "source": [
    "# Sales by Month \n",
    "df.groupby('Month')['Sales'].sum().sort_values(ascending=False)"
   ]
  },
  {
   "cell_type": "code",
   "execution_count": 63,
   "id": "53349c80",
   "metadata": {},
   "outputs": [
    {
     "data": {
      "image/png": "[encoded data removed]",
      "text/plain": [
       "<Figure size 640x480 with 1 Axes>"
      ]
     },
     "metadata": {},
     "output_type": "display_data"
    }
   ],
   "source": [
    "df.groupby('Month')['Sales'].sum().plot(kind='line')\n",
    "plt.title('Total Sales by Month')\n",
    "plt.xlabel('Month')\n",
    "plt.ylabel('Sales')\n",
    "plt.show()"
   ]
  },
  {
   "cell_type": "markdown",
   "id": "354e01e5",
   "metadata": {},
   "source": [
    "# So what does observed do?\n",
    "\n",
    "observed=False (default now, but will change):\n",
    "- Includes all possible categories, even if they aren't in the data.\n",
    "- So you might get a \"Furniture\" bar with zero profit in your chart.\n",
    "\n",
    "observed=True (recommended for better performance):\n",
    "- Only includes categories actually observed in the data.\n",
    "- Ignores any unused categories, so your output is cleaner and faster."
   ]
  },
  {
   "cell_type": "code",
   "execution_count": 64,
   "id": "c2cbcabf",
   "metadata": {},
   "outputs": [
    {
     "data": {
      "text/plain": [
       "Product_Category\n",
       "Auto & Accessories    64.488662\n",
       "Electronic            64.491151\n",
       "Fashion               80.816654\n",
       "Home & Furniture      57.006018\n",
       "Name: Profit, dtype: float64"
      ]
     },
     "execution_count": 64,
     "metadata": {},
     "output_type": "execute_result"
    }
   ],
   "source": [
    "df.groupby('Product_Category', observed=True)['Profit'].mean()"
   ]
  },
  {
   "cell_type": "code",
   "execution_count": null,
   "id": "49d636d4",
   "metadata": {},
   "outputs": [
    {
     "data": {
      "image/png": "[encoded data removed]",
      "text/plain": [
       "<Figure size 640x480 with 1 Axes>"
      ]
     },
     "metadata": {},
     "output_type": "display_data"
    }
   ],
   "source": [
    "df.groupby('Product_Category',  observed=True)['Profit'].mean().plot(kind='bar')\n",
    "plt.title(\"Average Profit by Product Category\")\n",
    "# plt.savefig('Average_Profit.png')  # Saves the graph\n",
    "plt.show()"
   ]
  },
  {
   "cell_type": "code",
   "execution_count": 67,
   "id": "8612ed64",
   "metadata": {},
   "outputs": [],
   "source": [
    "import seaborn as sns"
   ]
  },
  {
   "cell_type": "code",
   "execution_count": 86,
   "id": "6b43ee2a",
   "metadata": {},
   "outputs": [
    {
     "data": {
      "text/html": [
       "<div>\n",
       "<style scoped>\n",
       "    .dataframe tbody tr th:only-of-type {\n",
       "        vertical-align: middle;\n",
       "    }\n",
       "\n",
       "    .dataframe tbody tr th {\n",
       "        vertical-align: top;\n",
       "    }\n",
       "\n",
       "    .dataframe thead th {\n",
       "        text-align: right;\n",
       "    }\n",
       "</style>\n",
       "<table border=\"1\" class=\"dataframe\">\n",
       "  <thead>\n",
       "    <tr style=\"text-align: right;\">\n",
       "      <th></th>\n",
       "      <th>Discount</th>\n",
       "      <th>Profit</th>\n",
       "    </tr>\n",
       "  </thead>\n",
       "  <tbody>\n",
       "    <tr>\n",
       "      <th>0</th>\n",
       "      <td>0.1</td>\n",
       "      <td>77.116417</td>\n",
       "    </tr>\n",
       "    <tr>\n",
       "      <th>1</th>\n",
       "      <td>0.2</td>\n",
       "      <td>68.273861</td>\n",
       "    </tr>\n",
       "    <tr>\n",
       "      <th>2</th>\n",
       "      <td>0.3</td>\n",
       "      <td>65.793952</td>\n",
       "    </tr>\n",
       "    <tr>\n",
       "      <th>3</th>\n",
       "      <td>0.4</td>\n",
       "      <td>71.297760</td>\n",
       "    </tr>\n",
       "    <tr>\n",
       "      <th>4</th>\n",
       "      <td>0.5</td>\n",
       "      <td>73.189754</td>\n",
       "    </tr>\n",
       "  </tbody>\n",
       "</table>\n",
       "</div>"
      ],
      "text/plain": [
       "   Discount     Profit\n",
       "0       0.1  77.116417\n",
       "1       0.2  68.273861\n",
       "2       0.3  65.793952\n",
       "3       0.4  71.297760\n",
       "4       0.5  73.189754"
      ]
     },
     "execution_count": 86,
     "metadata": {},
     "output_type": "execute_result"
    }
   ],
   "source": [
    "df.groupby('Discount')['Profit'].mean().reset_index()"
   ]
  },
  {
   "cell_type": "code",
   "execution_count": null,
   "id": "236cd609",
   "metadata": {},
   "outputs": [
    {
     "data": {
      "image/png": "[encoded data removed]",
      "text/plain": [
       "<Figure size 640x480 with 1 Axes>"
      ]
     },
     "metadata": {},
     "output_type": "display_data"
    }
   ],
   "source": [
    "# Group data by Discount and calculate average Profit\n",
    "discount_profit = df.groupby('Discount')['Profit'].mean().reset_index()\n",
    "\n",
    "# Create a bar plot\n",
    "sns.barplot(x='Discount', y='Profit', data=discount_profit)\n",
    "\n",
    "# Add title and labels\n",
    "plt.title('Average Profit by Discount Level')\n",
    "# plt.savefig('Average_Profit_by_Discount_Level.png')  # Saves the graph\n",
    "plt.xlabel('Discount')\n",
    "plt.ylabel('Average Profit')\n",
    "\n",
    "# Show the plot\n",
    "plt.show()"
   ]
  },
  {
   "cell_type": "markdown",
   "id": "c8931392",
   "metadata": {},
   "source": [
    "# Store the Cleaned Data\n",
    "What: Save the cleaned data in a database.\n",
    "Why: A key data engineering skill is storing data for future use."
   ]
  },
  {
   "cell_type": "code",
   "execution_count": 76,
   "id": "bc350b35",
   "metadata": {},
   "outputs": [],
   "source": [
    "import sqlite3"
   ]
  },
  {
   "cell_type": "code",
   "execution_count": 77,
   "id": "8fc58725",
   "metadata": {},
   "outputs": [],
   "source": [
    "conn = sqlite3.connect('sales_data.db')  # Creates a database file"
   ]
  },
  {
   "cell_type": "code",
   "execution_count": 78,
   "id": "497fb950",
   "metadata": {},
   "outputs": [],
   "source": [
    "df.to_sql('sales', conn, if_exists='replace', index=False)  # Saves data to a table\n",
    "conn.close()"
   ]
  },
  {
   "cell_type": "markdown",
   "id": "a1947c58",
   "metadata": {},
   "source": [
    "# Test the database"
   ]
  },
  {
   "cell_type": "code",
   "execution_count": 82,
   "id": "27d93e38",
   "metadata": {},
   "outputs": [
    {
     "data": {
      "text/html": [
       "<div>\n",
       "<style scoped>\n",
       "    .dataframe tbody tr th:only-of-type {\n",
       "        vertical-align: middle;\n",
       "    }\n",
       "\n",
       "    .dataframe tbody tr th {\n",
       "        vertical-align: top;\n",
       "    }\n",
       "\n",
       "    .dataframe thead th {\n",
       "        text-align: right;\n",
       "    }\n",
       "</style>\n",
       "<table border=\"1\" class=\"dataframe\">\n",
       "  <thead>\n",
       "    <tr style=\"text-align: right;\">\n",
       "      <th></th>\n",
       "      <th>Order_Date</th>\n",
       "      <th>Time</th>\n",
       "      <th>Aging</th>\n",
       "      <th>Customer_Id</th>\n",
       "      <th>Gender</th>\n",
       "      <th>Device_Type</th>\n",
       "      <th>Customer_Login_type</th>\n",
       "      <th>Product_Category</th>\n",
       "      <th>Product</th>\n",
       "      <th>Sales</th>\n",
       "      <th>Quantity</th>\n",
       "      <th>Discount</th>\n",
       "      <th>Profit</th>\n",
       "      <th>Shipping_Cost</th>\n",
       "      <th>Order_Priority</th>\n",
       "      <th>Payment_method</th>\n",
       "      <th>Year</th>\n",
       "      <th>Month</th>\n",
       "    </tr>\n",
       "  </thead>\n",
       "  <tbody>\n",
       "    <tr>\n",
       "      <th>0</th>\n",
       "      <td>2018-01-02 00:00:00</td>\n",
       "      <td>10:56:33</td>\n",
       "      <td>8.0</td>\n",
       "      <td>37077</td>\n",
       "      <td>Female</td>\n",
       "      <td>Web</td>\n",
       "      <td>Member</td>\n",
       "      <td>Auto &amp; Accessories</td>\n",
       "      <td>Car Media Players</td>\n",
       "      <td>140.0</td>\n",
       "      <td>1.0</td>\n",
       "      <td>0.3</td>\n",
       "      <td>46.0</td>\n",
       "      <td>4.6</td>\n",
       "      <td>Medium</td>\n",
       "      <td>credit_card</td>\n",
       "      <td>2018</td>\n",
       "      <td>1</td>\n",
       "    </tr>\n",
       "    <tr>\n",
       "      <th>1</th>\n",
       "      <td>2018-07-24 00:00:00</td>\n",
       "      <td>20:41:37</td>\n",
       "      <td>2.0</td>\n",
       "      <td>59173</td>\n",
       "      <td>Female</td>\n",
       "      <td>Web</td>\n",
       "      <td>Member</td>\n",
       "      <td>Auto &amp; Accessories</td>\n",
       "      <td>Car Speakers</td>\n",
       "      <td>211.0</td>\n",
       "      <td>1.0</td>\n",
       "      <td>0.3</td>\n",
       "      <td>112.0</td>\n",
       "      <td>11.2</td>\n",
       "      <td>Medium</td>\n",
       "      <td>credit_card</td>\n",
       "      <td>2018</td>\n",
       "      <td>7</td>\n",
       "    </tr>\n",
       "    <tr>\n",
       "      <th>2</th>\n",
       "      <td>2018-11-08 00:00:00</td>\n",
       "      <td>08:38:49</td>\n",
       "      <td>8.0</td>\n",
       "      <td>41066</td>\n",
       "      <td>Female</td>\n",
       "      <td>Web</td>\n",
       "      <td>Member</td>\n",
       "      <td>Auto &amp; Accessories</td>\n",
       "      <td>Car Body Covers</td>\n",
       "      <td>117.0</td>\n",
       "      <td>5.0</td>\n",
       "      <td>0.1</td>\n",
       "      <td>31.2</td>\n",
       "      <td>3.1</td>\n",
       "      <td>Critical</td>\n",
       "      <td>credit_card</td>\n",
       "      <td>2018</td>\n",
       "      <td>11</td>\n",
       "    </tr>\n",
       "    <tr>\n",
       "      <th>3</th>\n",
       "      <td>2018-04-18 00:00:00</td>\n",
       "      <td>19:28:06</td>\n",
       "      <td>7.0</td>\n",
       "      <td>50741</td>\n",
       "      <td>Female</td>\n",
       "      <td>Web</td>\n",
       "      <td>Member</td>\n",
       "      <td>Auto &amp; Accessories</td>\n",
       "      <td>Car &amp; Bike Care</td>\n",
       "      <td>118.0</td>\n",
       "      <td>1.0</td>\n",
       "      <td>0.3</td>\n",
       "      <td>26.2</td>\n",
       "      <td>2.6</td>\n",
       "      <td>High</td>\n",
       "      <td>credit_card</td>\n",
       "      <td>2018</td>\n",
       "      <td>4</td>\n",
       "    </tr>\n",
       "    <tr>\n",
       "      <th>4</th>\n",
       "      <td>2018-08-13 00:00:00</td>\n",
       "      <td>21:18:39</td>\n",
       "      <td>9.0</td>\n",
       "      <td>53639</td>\n",
       "      <td>Female</td>\n",
       "      <td>Web</td>\n",
       "      <td>Member</td>\n",
       "      <td>Auto &amp; Accessories</td>\n",
       "      <td>Tyre</td>\n",
       "      <td>250.0</td>\n",
       "      <td>1.0</td>\n",
       "      <td>0.3</td>\n",
       "      <td>160.0</td>\n",
       "      <td>16.0</td>\n",
       "      <td>Critical</td>\n",
       "      <td>credit_card</td>\n",
       "      <td>2018</td>\n",
       "      <td>8</td>\n",
       "    </tr>\n",
       "  </tbody>\n",
       "</table>\n",
       "</div>"
      ],
      "text/plain": [
       "            Order_Date      Time  Aging  Customer_Id  Gender Device_Type  \\\n",
       "0  2018-01-02 00:00:00  10:56:33    8.0        37077  Female         Web   \n",
       "1  2018-07-24 00:00:00  20:41:37    2.0        59173  Female         Web   \n",
       "2  2018-11-08 00:00:00  08:38:49    8.0        41066  Female         Web   \n",
       "3  2018-04-18 00:00:00  19:28:06    7.0        50741  Female         Web   \n",
       "4  2018-08-13 00:00:00  21:18:39    9.0        53639  Female         Web   \n",
       "\n",
       "  Customer_Login_type    Product_Category            Product  Sales  Quantity  \\\n",
       "0              Member  Auto & Accessories  Car Media Players  140.0       1.0   \n",
       "1              Member  Auto & Accessories       Car Speakers  211.0       1.0   \n",
       "2              Member  Auto & Accessories    Car Body Covers  117.0       5.0   \n",
       "3              Member  Auto & Accessories    Car & Bike Care  118.0       1.0   \n",
       "4              Member  Auto & Accessories               Tyre  250.0       1.0   \n",
       "\n",
       "   Discount  Profit  Shipping_Cost Order_Priority Payment_method  Year  Month  \n",
       "0       0.3    46.0            4.6         Medium    credit_card  2018      1  \n",
       "1       0.3   112.0           11.2         Medium    credit_card  2018      7  \n",
       "2       0.1    31.2            3.1       Critical    credit_card  2018     11  \n",
       "3       0.3    26.2            2.6           High    credit_card  2018      4  \n",
       "4       0.3   160.0           16.0       Critical    credit_card  2018      8  "
      ]
     },
     "execution_count": 82,
     "metadata": {},
     "output_type": "execute_result"
    }
   ],
   "source": [
    "conn = sqlite3.connect('sales_data.db')\n",
    "test_df = pd.read_sql('SELECT * FROM sales', conn)\n",
    "test_df.head()  # Checks if data was saved correctly\n"
   ]
  },
  {
   "cell_type": "code",
   "execution_count": null,
   "id": "8751644c",
   "metadata": {},
   "outputs": [],
   "source": [
    "conn.close() # Connect close"
   ]
  },
  {
   "cell_type": "markdown",
   "id": "e7da0060",
   "metadata": {},
   "source": [
    "# Sales Report Summary\n",
    "\n",
    "Objective:\n",
    "Analyze sales and profit trends.\n",
    "\n",
    "Findings:\n",
    "\n",
    "1. Sales are highest in November.\n",
    "2. Fashion Product has the highest profit.\n",
    "3. Discounts above 0.2 reduce profit. (Profit starts decreasing noticeably after a 0.2 discount based on the data.)"
   ]
  }
 ],
 "metadata": {
  "kernelspec": {
   "display_name": "Python 3",
   "language": "python",
   "name": "python3"
  },
  "language_info": {
   "codemirror_mode": {
    "name": "ipython",
    "version": 3
   },
   "file_extension": ".py",
   "mimetype": "text/x-python",
   "name": "python",
   "nbconvert_exporter": "python",
   "pygments_lexer": "ipython3",
   "version": "3.12.10"
  }
 },
 "nbformat": 4,
 "nbformat_minor": 5
}
